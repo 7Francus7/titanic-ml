{
 "cells": [
  {
   "cell_type": "markdown",
   "id": "8b716969-e477-4278-b15e-2aaf5adbfcc6",
   "metadata": {},
   "source": [
    "# Titanic - Machine Learning Project\n",
    "\n",
    "This project is part of my Data Science portfolio.  \n",
    "The goal is to predict whether a passenger survived the Titanic disaster based on features such as age, gender, class, and other attributes.\n",
    "\n",
    "**Steps of the project:**\n",
    "1. Exploratory Data Analysis (EDA)\n",
    "2. Data Cleaning & Feature Engineering\n",
    "3. Model Training\n",
    "4. Evaluation\n",
    "5. Predictions on Test Data\n",
    "6. Conclusion\n"
   ]
  },
  {
   "cell_type": "markdown",
   "id": "215923a5-2450-447d-80df-c0ea0fca710a",
   "metadata": {},
   "source": [
    "## Importamos librerias"
   ]
  },
  {
   "cell_type": "code",
   "execution_count": 1,
   "id": "1fe4cc46-238c-4605-9b0b-9a912f30ea42",
   "metadata": {},
   "outputs": [],
   "source": [
    "import pandas as pd\n",
    "import numpy as np\n",
    "import matplotlib.pyplot as plt\n",
    "import seaborn as sns"
   ]
  },
  {
   "cell_type": "markdown",
   "id": "831329a3-3774-4d9a-9c30-659bb9436a4a",
   "metadata": {},
   "source": [
    "## Cargamos data"
   ]
  },
  {
   "cell_type": "code",
   "execution_count": 2,
   "id": "1ff958a0-3b4b-40ea-b559-fe8b5baa6843",
   "metadata": {},
   "outputs": [],
   "source": [
    "train = pd.read_csv('train.csv')\n",
    "test = pd.read_csv('test.csv')"
   ]
  },
  {
   "cell_type": "markdown",
   "id": "4c3ead2c-7916-4720-8808-b08ab85a1e66",
   "metadata": {},
   "source": [
    "## Mostrar la data"
   ]
  },
  {
   "cell_type": "code",
   "execution_count": 5,
   "id": "cdd5687d-0c1a-4a67-8cbb-a29dff214c46",
   "metadata": {},
   "outputs": [
    {
     "data": {
      "text/plain": [
       "(891, 12)"
      ]
     },
     "execution_count": 5,
     "metadata": {},
     "output_type": "execute_result"
    }
   ],
   "source": [
    "train.shape"
   ]
  },
  {
   "cell_type": "code",
   "execution_count": 6,
   "id": "ced9de16-07bc-46d2-bde4-717e6e193381",
   "metadata": {},
   "outputs": [
    {
     "data": {
      "text/html": [
       "<div>\n",
       "<style scoped>\n",
       "    .dataframe tbody tr th:only-of-type {\n",
       "        vertical-align: middle;\n",
       "    }\n",
       "\n",
       "    .dataframe tbody tr th {\n",
       "        vertical-align: top;\n",
       "    }\n",
       "\n",
       "    .dataframe thead th {\n",
       "        text-align: right;\n",
       "    }\n",
       "</style>\n",
       "<table border=\"1\" class=\"dataframe\">\n",
       "  <thead>\n",
       "    <tr style=\"text-align: right;\">\n",
       "      <th></th>\n",
       "      <th>PassengerId</th>\n",
       "      <th>Survived</th>\n",
       "      <th>Pclass</th>\n",
       "      <th>Name</th>\n",
       "      <th>Sex</th>\n",
       "      <th>Age</th>\n",
       "      <th>SibSp</th>\n",
       "      <th>Parch</th>\n",
       "      <th>Ticket</th>\n",
       "      <th>Fare</th>\n",
       "      <th>Cabin</th>\n",
       "      <th>Embarked</th>\n",
       "    </tr>\n",
       "  </thead>\n",
       "  <tbody>\n",
       "    <tr>\n",
       "      <th>0</th>\n",
       "      <td>1</td>\n",
       "      <td>0</td>\n",
       "      <td>3</td>\n",
       "      <td>Braund, Mr. Owen Harris</td>\n",
       "      <td>male</td>\n",
       "      <td>22.0</td>\n",
       "      <td>1</td>\n",
       "      <td>0</td>\n",
       "      <td>A/5 21171</td>\n",
       "      <td>7.2500</td>\n",
       "      <td>NaN</td>\n",
       "      <td>S</td>\n",
       "    </tr>\n",
       "    <tr>\n",
       "      <th>1</th>\n",
       "      <td>2</td>\n",
       "      <td>1</td>\n",
       "      <td>1</td>\n",
       "      <td>Cumings, Mrs. John Bradley (Florence Briggs Th...</td>\n",
       "      <td>female</td>\n",
       "      <td>38.0</td>\n",
       "      <td>1</td>\n",
       "      <td>0</td>\n",
       "      <td>PC 17599</td>\n",
       "      <td>71.2833</td>\n",
       "      <td>C85</td>\n",
       "      <td>C</td>\n",
       "    </tr>\n",
       "    <tr>\n",
       "      <th>2</th>\n",
       "      <td>3</td>\n",
       "      <td>1</td>\n",
       "      <td>3</td>\n",
       "      <td>Heikkinen, Miss. Laina</td>\n",
       "      <td>female</td>\n",
       "      <td>26.0</td>\n",
       "      <td>0</td>\n",
       "      <td>0</td>\n",
       "      <td>STON/O2. 3101282</td>\n",
       "      <td>7.9250</td>\n",
       "      <td>NaN</td>\n",
       "      <td>S</td>\n",
       "    </tr>\n",
       "    <tr>\n",
       "      <th>3</th>\n",
       "      <td>4</td>\n",
       "      <td>1</td>\n",
       "      <td>1</td>\n",
       "      <td>Futrelle, Mrs. Jacques Heath (Lily May Peel)</td>\n",
       "      <td>female</td>\n",
       "      <td>35.0</td>\n",
       "      <td>1</td>\n",
       "      <td>0</td>\n",
       "      <td>113803</td>\n",
       "      <td>53.1000</td>\n",
       "      <td>C123</td>\n",
       "      <td>S</td>\n",
       "    </tr>\n",
       "    <tr>\n",
       "      <th>4</th>\n",
       "      <td>5</td>\n",
       "      <td>0</td>\n",
       "      <td>3</td>\n",
       "      <td>Allen, Mr. William Henry</td>\n",
       "      <td>male</td>\n",
       "      <td>35.0</td>\n",
       "      <td>0</td>\n",
       "      <td>0</td>\n",
       "      <td>373450</td>\n",
       "      <td>8.0500</td>\n",
       "      <td>NaN</td>\n",
       "      <td>S</td>\n",
       "    </tr>\n",
       "  </tbody>\n",
       "</table>\n",
       "</div>"
      ],
      "text/plain": [
       "   PassengerId  Survived  Pclass  \\\n",
       "0            1         0       3   \n",
       "1            2         1       1   \n",
       "2            3         1       3   \n",
       "3            4         1       1   \n",
       "4            5         0       3   \n",
       "\n",
       "                                                Name     Sex   Age  SibSp  \\\n",
       "0                            Braund, Mr. Owen Harris    male  22.0      1   \n",
       "1  Cumings, Mrs. John Bradley (Florence Briggs Th...  female  38.0      1   \n",
       "2                             Heikkinen, Miss. Laina  female  26.0      0   \n",
       "3       Futrelle, Mrs. Jacques Heath (Lily May Peel)  female  35.0      1   \n",
       "4                           Allen, Mr. William Henry    male  35.0      0   \n",
       "\n",
       "   Parch            Ticket     Fare Cabin Embarked  \n",
       "0      0         A/5 21171   7.2500   NaN        S  \n",
       "1      0          PC 17599  71.2833   C85        C  \n",
       "2      0  STON/O2. 3101282   7.9250   NaN        S  \n",
       "3      0            113803  53.1000  C123        S  \n",
       "4      0            373450   8.0500   NaN        S  "
      ]
     },
     "execution_count": 6,
     "metadata": {},
     "output_type": "execute_result"
    }
   ],
   "source": [
    "train.head()"
   ]
  },
  {
   "cell_type": "code",
   "execution_count": 7,
   "id": "45a90855-9829-4a19-80b2-0cd7889d27c1",
   "metadata": {},
   "outputs": [
    {
     "name": "stdout",
     "output_type": "stream",
     "text": [
      "<class 'pandas.core.frame.DataFrame'>\n",
      "RangeIndex: 891 entries, 0 to 890\n",
      "Data columns (total 12 columns):\n",
      " #   Column       Non-Null Count  Dtype  \n",
      "---  ------       --------------  -----  \n",
      " 0   PassengerId  891 non-null    int64  \n",
      " 1   Survived     891 non-null    int64  \n",
      " 2   Pclass       891 non-null    int64  \n",
      " 3   Name         891 non-null    object \n",
      " 4   Sex          891 non-null    object \n",
      " 5   Age          714 non-null    float64\n",
      " 6   SibSp        891 non-null    int64  \n",
      " 7   Parch        891 non-null    int64  \n",
      " 8   Ticket       891 non-null    object \n",
      " 9   Fare         891 non-null    float64\n",
      " 10  Cabin        204 non-null    object \n",
      " 11  Embarked     889 non-null    object \n",
      "dtypes: float64(2), int64(5), object(5)\n",
      "memory usage: 83.7+ KB\n"
     ]
    }
   ],
   "source": [
    "train.info()"
   ]
  },
  {
   "cell_type": "markdown",
   "id": "ce2e29f8-fbb4-4bf9-8695-a2c66c209e43",
   "metadata": {},
   "source": [
    "## - Ver valores faltantes y tipos de datos"
   ]
  },
  {
   "cell_type": "code",
   "execution_count": 18,
   "id": "33344eca-b376-4bac-a8f5-a197b227a27a",
   "metadata": {},
   "outputs": [
    {
     "data": {
      "text/plain": [
       "PassengerId      0\n",
       "Survived         0\n",
       "Pclass           0\n",
       "Name             0\n",
       "Sex              0\n",
       "Age            177\n",
       "SibSp            0\n",
       "Parch            0\n",
       "Ticket           0\n",
       "Fare             0\n",
       "Cabin          687\n",
       "Embarked         2\n",
       "dtype: int64"
      ]
     },
     "execution_count": 18,
     "metadata": {},
     "output_type": "execute_result"
    }
   ],
   "source": [
    "# Missing values\n",
    "\n",
    "train.isnull().sum()"
   ]
  },
  {
   "cell_type": "code",
   "execution_count": 19,
   "id": "e792218a-ceba-4c6a-891b-aad9303fc3b6",
   "metadata": {},
   "outputs": [
    {
     "data": {
      "text/plain": [
       "PassengerId      int64\n",
       "Survived         int64\n",
       "Pclass           int64\n",
       "Name            object\n",
       "Sex             object\n",
       "Age            float64\n",
       "SibSp            int64\n",
       "Parch            int64\n",
       "Ticket          object\n",
       "Fare           float64\n",
       "Cabin           object\n",
       "Embarked        object\n",
       "dtype: object"
      ]
     },
     "execution_count": 19,
     "metadata": {},
     "output_type": "execute_result"
    }
   ],
   "source": [
    "# Data types\n",
    "train.dtypes"
   ]
  },
  {
   "cell_type": "markdown",
   "id": "7e472a02-725f-4bfb-b9d9-cb8fd8a6b310",
   "metadata": {},
   "source": [
    "## Data overview\n",
    "\n",
    "- The dataset contains 891 rows and 12 columns.\n",
    "- The target variable is **Survived** (0 = did not survive, 1 = survived).\n",
    "- Some columns have missing values:\n",
    "  - `Age` has ~20% missing values.\n",
    "  - `Cabin` has many missing values (almost 80%).\n",
    "  - `Embarked` has a few missing values.\n"
   ]
  },
  {
   "cell_type": "markdown",
   "id": "26a27fc3-ea1f-448f-a9ba-8b2d5dce1eb2",
   "metadata": {},
   "source": [
    "## - Variables categóricas importantes"
   ]
  },
  {
   "cell_type": "code",
   "execution_count": 20,
   "id": "48c37d12-88e3-4911-b5b5-1c8ee6fa5fee",
   "metadata": {},
   "outputs": [
    {
     "data": {
      "image/png": "[encoded data removed]",
      "text/plain": [
       "<Figure size 640x480 with 1 Axes>"
      ]
     },
     "metadata": {},
     "output_type": "display_data"
    }
   ],
   "source": [
    "# Survival distribution\n",
    "sns.countplot(x=\"Survived\", data=train)\n",
    "plt.title(\"Survival Distribution\")\n",
    "plt.show()"
   ]
  },
  {
   "cell_type": "code",
   "execution_count": 21,
   "id": "99ae9545-e877-42bf-be44-a9c3c8b7499c",
   "metadata": {},
   "outputs": [
    {
     "data": {
      "image/png": "[encoded data removed]",
      "text/plain": [
       "<Figure size 640x480 with 1 Axes>"
      ]
     },
     "metadata": {},
     "output_type": "display_data"
    }
   ],
   "source": [
    "# Survival by gender\n",
    "sns.countplot(x=\"Sex\", hue=\"Survived\", data=train)\n",
    "plt.title(\"Survival by gender\")\n",
    "plt.show()"
   ]
  },
  {
   "cell_type": "code",
   "execution_count": 22,
   "id": "0e0e6f91-a388-4153-9a6c-5ddeae6f5f35",
   "metadata": {},
   "outputs": [
    {
     "data": {
      "image/png": "[encoded data removed]",
      "text/plain": [
       "<Figure size 640x480 with 1 Axes>"
      ]
     },
     "metadata": {},
     "output_type": "display_data"
    }
   ],
   "source": [
    "# Survival by class\n",
    "sns.countplot(x=\"Pclass\", hue=\"Survived\", data=train)\n",
    "plt.title(\"Survival by class\")\n",
    "plt.show()"
   ]
  },
  {
   "cell_type": "markdown",
   "id": "07419e65-004f-4f7f-af84-411f5cb1b691",
   "metadata": {},
   "source": [
    "## - Variables numéricas"
   ]
  },
  {
   "cell_type": "code",
   "execution_count": 23,
   "id": "83033b52-6f79-456b-87ed-47f37a16c1b3",
   "metadata": {},
   "outputs": [
    {
     "data": {
      "image/png": "[encoded data removed]",
      "text/plain": [
       "<Figure size 640x480 with 1 Axes>"
      ]
     },
     "metadata": {},
     "output_type": "display_data"
    }
   ],
   "source": [
    "# Age distribution\n",
    "sns.histplot(train[\"Age\"].dropna(), kde=True, bins=30)\n",
    "plt.title(\"Age distribution\")\n",
    "plt.show()"
   ]
  },
  {
   "cell_type": "code",
   "execution_count": 24,
   "id": "9ae0a7a5-e5ba-4de1-a064-1bd5eb4cd8eb",
   "metadata": {},
   "outputs": [
    {
     "data": {
      "image/png": "[encoded data removed]",
      "text/plain": [
       "<Figure size 640x480 with 1 Axes>"
      ]
     },
     "metadata": {},
     "output_type": "display_data"
    }
   ],
   "source": [
    "# Fare distribution\n",
    "sns.histplot(train[\"Fare\"], kde=True, bins=30)\n",
    "plt.title(\"Fare distribution\")\n",
    "plt.show()"
   ]
  },
  {
   "cell_type": "markdown",
   "id": "2acf21a0-2d0e-4dce-aeff-094ecb31ef38",
   "metadata": {},
   "source": [
    "## EDA Findings\n",
    "\n",
    "- Survival rate: ~38% survived and ~62% did not survive.\n",
    "- Gender: Females had a much higher survival rate compared to males.\n",
    "- Passenger Class: Passengers in 1st class had a better chance of survival, while 3rd class had the lowest.\n",
    "- Age: Most passengers were between 20 and 40 years old.\n",
    "- Fare: Most fares were low, but passengers with higher fares had a higher survival probability.\n"
   ]
  },
  {
   "cell_type": "markdown",
   "id": "2a77ef55-9a44-4c29-92a7-4ee901a1912f",
   "metadata": {},
   "source": [
    "## - Data Cleaning & Feature Engineering"
   ]
  },
  {
   "cell_type": "markdown",
   "id": "dbcce14b-190e-483a-af2c-eb9d5019ea4b",
   "metadata": {},
   "source": [
    "## Tratar valores nulos"
   ]
  },
  {
   "cell_type": "code",
   "execution_count": 28,
   "id": "230a6995-3007-427e-81fb-87dd06a77575",
   "metadata": {},
   "outputs": [],
   "source": [
    "# Fill missing Age with median\n",
    "train[\"Age\"] = train[\"Age\"].fillna(train[\"Age\"].median())"
   ]
  },
  {
   "cell_type": "code",
   "execution_count": 29,
   "id": "1b21970d-638f-41e0-8578-0673fdce8c1f",
   "metadata": {},
   "outputs": [],
   "source": [
    "# Fill missing Embarked with most common value\n",
    "train[\"Embarked\"] = train[\"Embarked\"].fillna(train[\"Embarked\"].mode()[0])"
   ]
  },
  {
   "cell_type": "code",
   "execution_count": 30,
   "id": "e180f518-5fef-4130-bb12-e75596917277",
   "metadata": {},
   "outputs": [],
   "source": [
    "# Drop Cabin column (too many missing values)\n",
    "train.drop(columns=[\"Cabin\"], inplace=True)"
   ]
  },
  {
   "cell_type": "markdown",
   "id": "826aa520-5bb5-4d26-b867-95df479067b7",
   "metadata": {},
   "source": [
    "## Transformar variables categóricas"
   ]
  },
  {
   "cell_type": "code",
   "execution_count": 31,
   "id": "9f5794d9-736e-4bcf-bad4-4998f01f678b",
   "metadata": {},
   "outputs": [],
   "source": [
    "# Convert 'Sex' into numeric (0 = male, 1 = female)\n",
    "train[\"Sex\"] = train[\"Sex\"].map({\"male\": 0, \"female\": 1})"
   ]
  },
  {
   "cell_type": "code",
   "execution_count": 32,
   "id": "7ea01ba2-be05-47b4-b6a9-93e3fccab97c",
   "metadata": {},
   "outputs": [],
   "source": [
    "# One-hot encoding for 'Embarked'\n",
    "train = pd.get_dummies(train, columns=[\"Embarked\"], drop_first=True)"
   ]
  },
  {
   "cell_type": "markdown",
   "id": "84409480-8761-4ffe-ab2b-4879d5c3578c",
   "metadata": {},
   "source": [
    "## Crear nuevas features útiles"
   ]
  },
  {
   "cell_type": "code",
   "execution_count": 33,
   "id": "98900b57-6b0b-4645-9ebb-1b7a936cbf73",
   "metadata": {},
   "outputs": [],
   "source": [
    "# Family size (SibSp + Parch + self)\n",
    "train[\"FamilySize\"] = train[\"SibSp\"] + train[\"Parch\"] + 1\n",
    "\n",
    "# IsAlone (binary feature)\n",
    "train[\"IsAlone\"] = 1  # assume alone\n",
    "train.loc[train[\"FamilySize\"] > 1, \"IsAlone\"] = 0\n",
    "\n",
    "# Title extraction from Name\n",
    "train[\"Title\"] = train[\"Name\"].str.extract(\" ([A-Za-z]+)\\.\", expand=False)\n",
    "train[\"Title\"] = train[\"Title\"].replace(\n",
    "    [\"Lady\", \"Countess\", \"Capt\", \"Col\", \"Don\", \"Dr\", \"Major\", \"Rev\", \"Sir\", \"Jonkheer\", \"Dona\"], \"Rare\"\n",
    ")\n",
    "train[\"Title\"] = train[\"Title\"].replace({\"Mlle\": \"Miss\", \"Ms\": \"Miss\", \"Mme\": \"Mrs\"})\n",
    "\n",
    "# Map titles to numeric\n",
    "title_mapping = {\"Mr\": 1, \"Miss\": 2, \"Mrs\": 3, \"Master\": 4, \"Rare\": 5}\n",
    "train[\"Title\"] = train[\"Title\"].map(title_mapping)\n"
   ]
  },
  {
   "cell_type": "markdown",
   "id": "842f1de6-9356-415d-8289-6adf05976e75",
   "metadata": {},
   "source": [
    "## Eliminar columnas que ya no sirven"
   ]
  },
  {
   "cell_type": "code",
   "execution_count": 34,
   "id": "67c0cd34-adde-47cb-8da5-60b63ce5d24b",
   "metadata": {},
   "outputs": [],
   "source": [
    "train.drop(columns=[\"Name\", \"Ticket\", \"PassengerId\"], inplace=True)\n"
   ]
  },
  {
   "cell_type": "markdown",
   "id": "515238c9-4386-45ad-aac7-dc1b6e869987",
   "metadata": {},
   "source": [
    "## Revisar dataset final"
   ]
  },
  {
   "cell_type": "code",
   "execution_count": 35,
   "id": "ffaab82e-affa-4ade-a62c-8185e2c303b0",
   "metadata": {},
   "outputs": [
    {
     "data": {
      "text/html": [
       "<div>\n",
       "<style scoped>\n",
       "    .dataframe tbody tr th:only-of-type {\n",
       "        vertical-align: middle;\n",
       "    }\n",
       "\n",
       "    .dataframe tbody tr th {\n",
       "        vertical-align: top;\n",
       "    }\n",
       "\n",
       "    .dataframe thead th {\n",
       "        text-align: right;\n",
       "    }\n",
       "</style>\n",
       "<table border=\"1\" class=\"dataframe\">\n",
       "  <thead>\n",
       "    <tr style=\"text-align: right;\">\n",
       "      <th></th>\n",
       "      <th>Survived</th>\n",
       "      <th>Pclass</th>\n",
       "      <th>Sex</th>\n",
       "      <th>Age</th>\n",
       "      <th>SibSp</th>\n",
       "      <th>Parch</th>\n",
       "      <th>Fare</th>\n",
       "      <th>Embarked_Q</th>\n",
       "      <th>Embarked_S</th>\n",
       "      <th>FamilySize</th>\n",
       "      <th>IsAlone</th>\n",
       "      <th>Title</th>\n",
       "    </tr>\n",
       "  </thead>\n",
       "  <tbody>\n",
       "    <tr>\n",
       "      <th>0</th>\n",
       "      <td>0</td>\n",
       "      <td>3</td>\n",
       "      <td>0</td>\n",
       "      <td>22.0</td>\n",
       "      <td>1</td>\n",
       "      <td>0</td>\n",
       "      <td>7.2500</td>\n",
       "      <td>False</td>\n",
       "      <td>True</td>\n",
       "      <td>2</td>\n",
       "      <td>0</td>\n",
       "      <td>1</td>\n",
       "    </tr>\n",
       "    <tr>\n",
       "      <th>1</th>\n",
       "      <td>1</td>\n",
       "      <td>1</td>\n",
       "      <td>1</td>\n",
       "      <td>38.0</td>\n",
       "      <td>1</td>\n",
       "      <td>0</td>\n",
       "      <td>71.2833</td>\n",
       "      <td>False</td>\n",
       "      <td>False</td>\n",
       "      <td>2</td>\n",
       "      <td>0</td>\n",
       "      <td>3</td>\n",
       "    </tr>\n",
       "    <tr>\n",
       "      <th>2</th>\n",
       "      <td>1</td>\n",
       "      <td>3</td>\n",
       "      <td>1</td>\n",
       "      <td>26.0</td>\n",
       "      <td>0</td>\n",
       "      <td>0</td>\n",
       "      <td>7.9250</td>\n",
       "      <td>False</td>\n",
       "      <td>True</td>\n",
       "      <td>1</td>\n",
       "      <td>1</td>\n",
       "      <td>2</td>\n",
       "    </tr>\n",
       "    <tr>\n",
       "      <th>3</th>\n",
       "      <td>1</td>\n",
       "      <td>1</td>\n",
       "      <td>1</td>\n",
       "      <td>35.0</td>\n",
       "      <td>1</td>\n",
       "      <td>0</td>\n",
       "      <td>53.1000</td>\n",
       "      <td>False</td>\n",
       "      <td>True</td>\n",
       "      <td>2</td>\n",
       "      <td>0</td>\n",
       "      <td>3</td>\n",
       "    </tr>\n",
       "    <tr>\n",
       "      <th>4</th>\n",
       "      <td>0</td>\n",
       "      <td>3</td>\n",
       "      <td>0</td>\n",
       "      <td>35.0</td>\n",
       "      <td>0</td>\n",
       "      <td>0</td>\n",
       "      <td>8.0500</td>\n",
       "      <td>False</td>\n",
       "      <td>True</td>\n",
       "      <td>1</td>\n",
       "      <td>1</td>\n",
       "      <td>1</td>\n",
       "    </tr>\n",
       "  </tbody>\n",
       "</table>\n",
       "</div>"
      ],
      "text/plain": [
       "   Survived  Pclass  Sex   Age  SibSp  Parch     Fare  Embarked_Q  Embarked_S  \\\n",
       "0         0       3    0  22.0      1      0   7.2500       False        True   \n",
       "1         1       1    1  38.0      1      0  71.2833       False       False   \n",
       "2         1       3    1  26.0      0      0   7.9250       False        True   \n",
       "3         1       1    1  35.0      1      0  53.1000       False        True   \n",
       "4         0       3    0  35.0      0      0   8.0500       False        True   \n",
       "\n",
       "   FamilySize  IsAlone  Title  \n",
       "0           2        0      1  \n",
       "1           2        0      3  \n",
       "2           1        1      2  \n",
       "3           2        0      3  \n",
       "4           1        1      1  "
      ]
     },
     "execution_count": 35,
     "metadata": {},
     "output_type": "execute_result"
    }
   ],
   "source": [
    "train.head()"
   ]
  },
  {
   "cell_type": "markdown",
   "id": "8e7cc166-fc80-4268-9a75-4ec62bfc5886",
   "metadata": {},
   "source": [
    "## Feature Engineering Summary\n",
    "\n",
    "- Missing values handled:\n",
    "  - Age → filled with median\n",
    "  - Embarked → filled with most common value\n",
    "  - Cabin → dropped (too many missing values)\n",
    "- Converted categorical variables:\n",
    "  - Sex → numeric\n",
    "  - Embarked → one-hot encoded\n",
    "- New features created:\n",
    "  - FamilySize\n",
    "  - IsAlone\n",
    "  - Title (extracted from Name)\n",
    "- Dropped irrelevant columns: Name, Ticket, PassengerId\n"
   ]
  },
  {
   "cell_type": "code",
   "execution_count": null,
   "id": "e8a41616-03b1-43a2-b459-76432dedba00",
   "metadata": {},
   "outputs": [],
   "source": []
  }
 ],
 "metadata": {
  "kernelspec": {
   "display_name": "Python 3 (ipykernel)",
   "language": "python",
   "name": "python3"
  },
  "language_info": {
   "codemirror_mode": {
    "name": "ipython",
    "version": 3
   },
   "file_extension": ".py",
   "mimetype": "text/x-python",
   "name": "python",
   "nbconvert_exporter": "python",
   "pygments_lexer": "ipython3",
   "version": "3.11.4"
  }
 },
 "nbformat": 4,
 "nbformat_minor": 5
}
